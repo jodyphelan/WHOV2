{
 "cells": [
  {
   "cell_type": "code",
   "execution_count": 1,
   "metadata": {},
   "outputs": [],
   "source": [
    "import requests\n",
    "import pandas as pd\n",
    "import subprocess as sp\n",
    "import sys\n",
    "from glob import glob\n",
    "import re\n",
    "from pysam import VariantFile, VariantRecord\n",
    "from collections import defaultdict\n",
    "import csv \n"
   ]
  },
  {
   "cell_type": "code",
   "execution_count": 2,
   "metadata": {},
   "outputs": [
    {
     "data": {
      "text/plain": [
       "789313"
      ]
     },
     "execution_count": 2,
     "metadata": {},
     "output_type": "execute_result"
    }
   ],
   "source": [
    "\"\"\"\n",
    "Download the latest files from the mutation catalogue github repo\n",
    "\n",
    "The excel file contains the graded mutations and their confidence levels\n",
    "The vcf file contains the genomic coordinates of the mutations linked to the graded mutations\n",
    "\"\"\"\n",
    "\n",
    "excel_file_url = 'https://github.com/GTB-tbsequencing/mutation-catalogue-2023/raw/main/Final%20Result%20Files/WHO-UCN-TB-2023.5-eng.xlsx'\n",
    "r = requests.get(excel_file_url, allow_redirects=True)\n",
    "excel_file = 'WHO-UCN-TB-2023.5-eng.xlsx'\n",
    "open(excel_file, 'wb').write(r.content)\n",
    "\n",
    "vcf_file_url = 'https://github.com/GTB-tbsequencing/mutation-catalogue-2023/raw/main/Final%20Result%20Files/Genomic%20coordinates_7Sep2023.vcf.gz'\n",
    "r = requests.get(vcf_file_url, allow_redirects=True)\n",
    "open('Genomic_coordinates_7Sep2023.vcf.gz', 'wb').write(r.content)"
   ]
  },
  {
   "cell_type": "code",
   "execution_count": 3,
   "metadata": {},
   "outputs": [
    {
     "name": "stdout",
     "output_type": "stream",
     "text": [
      "Right codon table alread set\n"
     ]
    }
   ],
   "source": [
    "\"\"\"\n",
    "snpEff doesn't use the right codon table for Mtb, so we need to modify the config file\n",
    "\"\"\"\n",
    "snpeff_dirs = glob(f'{sys.prefix}/share/snpeff*')\n",
    "if len(snpeff_dirs)==1:\n",
    "    snpeff_dir = snpeff_dirs[0]\n",
    "    snpeff_config = f'{snpeff_dir}/snpEff.config'\n",
    "    if \"Mycobacterium_tuberculosis_h37rv.Chromosome.codonTable : Bacterial_and_Plant_Plastid\" not in open(snpeff_config).read():\n",
    "        open(snpeff_config, 'a').write(\"\\nMycobacterium_tuberculosis_h37rv.Chromosome.codonTable : Bacterial_and_Plant_Plastid\\n\")\n",
    "    else:\n",
    "        print(\"Right codon table alread set\")\n",
    "else:\n",
    "    print(\"Multiple or no snpeff installations found. Please remove all but one.\")"
   ]
  },
  {
   "cell_type": "code",
   "execution_count": 4,
   "metadata": {},
   "outputs": [
    {
     "data": {
      "text/plain": [
       "0"
      ]
     },
     "execution_count": 4,
     "metadata": {},
     "output_type": "execute_result"
    }
   ],
   "source": [
    "\"\"\"\n",
    "We annotate the vcf file with snpEff to make sure we are getting the same annotations as the graded mutations\n",
    "\"\"\"\n",
    "sp.call(\"bcftools view Genomic_coordinates_7Sep2023.vcf.gz | sed 's/NC_000962.3/Chromosome/' | snpEff ann Mycobacterium_tuberculosis_h37rv  > ann.vcf\", shell=True)"
   ]
  },
  {
   "cell_type": "code",
   "execution_count": 6,
   "metadata": {},
   "outputs": [],
   "source": [
    "\n",
    "\"\"\"\n",
    "This function extracts the both the graded mutation and the snpEff mutation from the vcf file\n",
    "\"\"\"\n",
    "def extract_mutation(var: VariantRecord) -> dict:\n",
    "    nucleotide_types = set(['initiator_codon_variant','synonymous_variant','upstream_gene_variant','splice_region_variant&stop_retained_variant','splice_region_variant&non_coding_transcript_exon_variant','non_coding_transcript_exon_variant'])\n",
    "    gene = var.info['graded_variant'].split(\"_\")[0]\n",
    "    cat_mut = '_'.join(var.info['graded_variant'].split(\"_\")[1:])\n",
    "    annotations = []\n",
    "    for a in var.info['ANN']:\n",
    "        a = a.split('|')\n",
    "        if a[1] in ('downstream_gene_variant'):\n",
    "            continue\n",
    "        if a[3]==gene:\n",
    "            annotations.append(a)\n",
    "    if len(annotations) == 0:\n",
    "        raise Exception\n",
    "    else:\n",
    "        a = annotations[0]\n",
    "        if a[1] in nucleotide_types:\n",
    "            mutation = a[9]\n",
    "        elif a[1]=='start_lost':\n",
    "            mutation = 'p.Met1?'\n",
    "        elif r:=re.match('p.Ter(\\d+)fs',a[10]):\n",
    "            mutation = f'p.Ter{r.group(1)}ext*?'\n",
    "        else:\n",
    "            mutation = a[10]\n",
    "        return {\n",
    "            'gene':gene,\n",
    "            'catalogue_mutation':cat_mut,\n",
    "            'snpEff_mutation':mutation,\n",
    "            'type': a[1]\n",
    "        }\n"
   ]
  },
  {
   "cell_type": "code",
   "execution_count": 7,
   "metadata": {},
   "outputs": [
    {
     "name": "stdout",
     "output_type": "stream",
     "text": [
      "Number of validated mutations: 76779\n",
      "Number of mutations that could not be parsed: 40944\n"
     ]
    }
   ],
   "source": [
    "\"\"\"\n",
    "Process the vcf file and compare the graded mutations with the snpEff mutations\n",
    "Some of the mutations don't agree in terms of the assigned graded mutation and the mutation from snpEff so we dump those\n",
    "\"\"\"\n",
    "processed = []\n",
    "dump = []\n",
    "vcf = VariantFile('ann.vcf')\n",
    "for i,var in enumerate(vcf):\n",
    "    try:\n",
    "        obj = extract_mutation(var)\n",
    "    except:\n",
    "        break\n",
    "    if obj['catalogue_mutation']!=obj['snpEff_mutation']:\n",
    "        dump.append((var,obj))\n",
    "    else:\n",
    "        processed.append(obj)\n",
    "\n",
    "\n",
    "print('Number of validated mutations:', len(processed))\n",
    "print('Number of mutations that could not be parsed:', len(dump))\n",
    "\n",
    "\n",
    "\n"
   ]
  },
  {
   "cell_type": "code",
   "execution_count": 8,
   "metadata": {},
   "outputs": [],
   "source": [
    "\"\"\"\n",
    "Create a lookup table for the mutations graded mutation -> snpEff mutation\n",
    "This is a one to many relationship. For example the graded mutation katG LoF is linked to many snpEff mutations (e.g. frameshifts)\n",
    "\"\"\"\n",
    "variant_lookup = defaultdict(set)\n",
    "for var in processed:\n",
    "    key = (var['gene'],var['catalogue_mutation'])\n",
    "    val = (var['gene'],var['snpEff_mutation'])\n",
    "    variant_lookup[key].add(val)"
   ]
  },
  {
   "cell_type": "code",
   "execution_count": 9,
   "metadata": {},
   "outputs": [
    {
     "name": "stderr",
     "output_type": "stream",
     "text": [
      "/Users/jody/mambaforge/envs/pp/lib/python3.10/site-packages/openpyxl/worksheet/_reader.py:329: UserWarning: Conditional Formatting extension is not supported and will be removed\n",
      "  warn(msg)\n"
     ]
    },
    {
     "name": "stdout",
     "output_type": "stream",
     "text": [
      "Number of unparsed mutations: 0\n"
     ]
    }
   ],
   "source": [
    "\"\"\"\"\n",
    "Here we run through the excel file and lookup the graded mutations in the lookup table.\n",
    "If the mutation is not found in the lookup table we dump it to a json file for checking.\n",
    "If all goes well they should all be found in the lookup table.\n",
    "\"\"\"\n",
    "\n",
    "unparsed = []\n",
    "lof_variants = ['deletion','LoF']\n",
    "confidence = {}\n",
    "rows = []\n",
    "gene_drug_associations = set()\n",
    "for row in pd.read_excel(excel_file,sheet_name='Catalogue_master_file', skiprows=2).to_dict('records'):\n",
    "    if row['gene']=='dnaA' and row['mutation'].startswith('c.-'): \n",
    "        continue\n",
    "    drug = row['drug'].lower()\n",
    "    key = (drug,row['gene'],row['mutation'])\n",
    "    vkey = (row['gene'],row['mutation'])\n",
    "    if row['mutation'] not in lof_variants and vkey not in variant_lookup:\n",
    "        unparsed.append(key)\n",
    "        continue\n",
    "    gene_drug_associations.add((row['gene'], drug))\n",
    "    confidence = row['FINAL CONFIDENCE GRADING'][3:]\n",
    "    for v in variant_lookup[vkey]:\n",
    "        r = {\n",
    "            'Gene':v[0],\n",
    "            'Mutation':v[1],\n",
    "            'type': 'drug_resistance' if confidence in ('Assoc w R', 'Assoc w R - Interim') else 'who_confidence',\n",
    "            'drug': drug,\n",
    "            'original_mutation': row[\"mutation\"],\n",
    "            'confidence': confidence,\n",
    "            'comment': row[\"Comment\"]\n",
    "        }\n",
    "        rows.append(r)\n",
    "    if row['mutation'] in lof_variants:\n",
    "        if row['mutation']=='deletion':\n",
    "            so_terms = ['feature_ablation']\n",
    "        elif row['mutation']=='LoF':\n",
    "            so_terms = ['feature_ablation','start_lost','stop_gained','frameshift_variant']\n",
    "        for so_term in so_terms:\n",
    "            r = {\n",
    "                'Gene':row['gene'],\n",
    "                'Mutation': so_term,\n",
    "                'type': 'drug_resistance' if confidence in ('Assoc w R', 'Assoc w R - Interim') else 'who_confidence',\n",
    "                'drug': drug,\n",
    "                'original_mutation': row[\"mutation\"],\n",
    "                'confidence': confidence,\n",
    "                'comment': row[\"Comment\"]\n",
    "            }\n",
    "            rows.append(r)\n",
    "\n",
    "print(\"Number of unparsed mutations:\",len(unparsed))\n",
    "import json\n",
    "json.dump(unparsed,open('who.json','w'),indent=4)"
   ]
  },
  {
   "cell_type": "code",
   "execution_count": null,
   "metadata": {},
   "outputs": [],
   "source": [
    "\"\"\"\n",
    "Create the mutations output file \n",
    "\"\"\"\n",
    "\n",
    "import pandas as pd\n",
    "df = pd.DataFrame(rows)\n",
    "df.to_csv('parsed_who_mutations.csv',index=False)"
   ]
  },
  {
   "cell_type": "code",
   "execution_count": null,
   "metadata": {},
   "outputs": [],
   "source": [
    "\"\"\"\n",
    "Create a watchlist with all genes, regardless if they have a tier 1/2 mutation or not\n",
    "\"\"\"\n",
    "\n",
    "watchlist_rows = []\n",
    "for gene,drug in gene_drug_associations:\n",
    "    watchlist_rows.append({\n",
    "        'Gene':gene,\n",
    "        'Type':'drug_resistance',\n",
    "        'Drug':drug,\n",
    "    })\n",
    "with open(\"genes.csv\",\"w\")  as O:\n",
    "    writer = csv.DictWriter(O,fieldnames=['Gene','Type','Drug'])\n",
    "    writer.writeheader()\n",
    "    writer.writerows(watchlist_rows)"
   ]
  }
 ],
 "metadata": {
  "kernelspec": {
   "display_name": "pp",
   "language": "python",
   "name": "python3"
  },
  "language_info": {
   "codemirror_mode": {
    "name": "ipython",
    "version": 3
   },
   "file_extension": ".py",
   "mimetype": "text/x-python",
   "name": "python",
   "nbconvert_exporter": "python",
   "pygments_lexer": "ipython3",
   "version": "3.10.8"
  }
 },
 "nbformat": 4,
 "nbformat_minor": 2
}
